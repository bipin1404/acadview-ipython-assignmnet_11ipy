{
  "nbformat": 4,
  "nbformat_minor": 0,
  "metadata": {
    "colab": {
      "name": "Untitled15.ipynb",
      "version": "0.3.2",
      "provenance": []
    },
    "kernelspec": {
      "name": "python3",
      "display_name": "Python 3"
    }
  },
  "cells": [
    {
      "cell_type": "markdown",
      "metadata": {
        "id": "view-in-github",
        "colab_type": "text"
      },
      "source": [
        "[View in Colaboratory](https://colab.research.google.com/github/bipin1404/acadview-ipython-assignmnet_11ipy/blob/master/Untitled15.ipynb)"
      ]
    },
    {
      "metadata": {
        "id": "Rw0xmjO_KyNg",
        "colab_type": "code",
        "colab": {}
      },
      "cell_type": "code",
      "source": [
        "import pandas as pd\n",
        "import numpy as np\n",
        "import matplotlib.pyplot as pl\n",
        "import seaborn as sns\n",
        "from sklearn.datasets import load_digits\n",
        "digits=load_digits()"
      ],
      "execution_count": 0,
      "outputs": []
    },
    {
      "metadata": {
        "id": "eAo7SCweLKyN",
        "colab_type": "code",
        "colab": {
          "base_uri": "https://localhost:8080/",
          "height": 34
        },
        "outputId": "bc24189b-9f9e-4d91-8e26-9a0cd941b82a"
      },
      "cell_type": "code",
      "source": [
        "digits.data.shape\n"
      ],
      "execution_count": 3,
      "outputs": [
        {
          "output_type": "execute_result",
          "data": {
            "text/plain": [
              "(1797, 64)"
            ]
          },
          "metadata": {
            "tags": []
          },
          "execution_count": 3
        }
      ]
    },
    {
      "metadata": {
        "id": "Q_JU85UqN9Fx",
        "colab_type": "code",
        "colab": {
          "base_uri": "https://localhost:8080/",
          "height": 136
        },
        "outputId": "d716668b-4446-4d18-f941-96adfd794d21"
      },
      "cell_type": "code",
      "source": [
        "digits.data"
      ],
      "execution_count": 4,
      "outputs": [
        {
          "output_type": "execute_result",
          "data": {
            "text/plain": [
              "array([[ 0.,  0.,  5., ...,  0.,  0.,  0.],\n",
              "       [ 0.,  0.,  0., ..., 10.,  0.,  0.],\n",
              "       [ 0.,  0.,  0., ..., 16.,  9.,  0.],\n",
              "       ...,\n",
              "       [ 0.,  0.,  1., ...,  6.,  0.,  0.],\n",
              "       [ 0.,  0.,  2., ..., 12.,  0.,  0.],\n",
              "       [ 0.,  0., 10., ..., 12.,  1.,  0.]])"
            ]
          },
          "metadata": {
            "tags": []
          },
          "execution_count": 4
        }
      ]
    },
    {
      "metadata": {
        "id": "Z5DXizQ8N_3y",
        "colab_type": "code",
        "colab": {
          "base_uri": "https://localhost:8080/",
          "height": 372
        },
        "outputId": "1bb6e992-a5e1-464f-a374-b2d73979ed37"
      },
      "cell_type": "code",
      "source": [
        "pl.gray() \n",
        "pl.matshow(digits.images[50]) \n",
        "pl.show()"
      ],
      "execution_count": 66,
      "outputs": [
        {
          "output_type": "display_data",
          "data": {
            "text/plain": [
              "<matplotlib.figure.Figure at 0x7f3962ef5f98>"
            ]
          },
          "metadata": {
            "tags": []
          }
        },
        {
          "output_type": "display_data",
          "data": {
            "image/png": "[encoded data removed]",
            "text/plain": [
              "<matplotlib.figure.Figure at 0x7f3962ef52e8>"
            ]
          },
          "metadata": {
            "tags": []
          }
        }
      ]
    },
    {
      "metadata": {
        "id": "Vd-sS_Ljgt5y",
        "colab_type": "code",
        "colab": {}
      },
      "cell_type": "code",
      "source": [
        ""
      ],
      "execution_count": 0,
      "outputs": []
    },
    {
      "metadata": {
        "id": "cqe_USmXL0fx",
        "colab_type": "code",
        "colab": {
          "base_uri": "https://localhost:8080/",
          "height": 34
        },
        "outputId": "e12961a9-60e4-4518-f5fc-bbc6d7b0d140"
      },
      "cell_type": "code",
      "source": [
        "x=digits.data\n",
        "y=digits.target\n",
        "type(x)\n",
        "type(y)"
      ],
      "execution_count": 13,
      "outputs": [
        {
          "output_type": "execute_result",
          "data": {
            "text/plain": [
              "numpy.ndarray"
            ]
          },
          "metadata": {
            "tags": []
          },
          "execution_count": 13
        }
      ]
    },
    {
      "metadata": {
        "id": "COmfL9-4YUP6",
        "colab_type": "text"
      },
      "cell_type": "markdown",
      "source": [
        "# **Spliting and Logistic_regression**"
      ]
    },
    {
      "metadata": {
        "id": "usdwunnGK-23",
        "colab_type": "code",
        "colab": {}
      },
      "cell_type": "code",
      "source": [
        "from sklearn.linear_model import LogisticRegression\n",
        "from sklearn.cross_validation import train_test_split\n",
        "reg=LogisticRegression()"
      ],
      "execution_count": 0,
      "outputs": []
    },
    {
      "metadata": {
        "id": "3AqgLyS-Qa-T",
        "colab_type": "code",
        "colab": {}
      },
      "cell_type": "code",
      "source": [
        ""
      ],
      "execution_count": 0,
      "outputs": []
    },
    {
      "metadata": {
        "id": "4x_piKhkMtnY",
        "colab_type": "code",
        "colab": {
          "base_uri": "https://localhost:8080/",
          "height": 85
        },
        "outputId": "d0b26ba1-5231-4c86-9d49-5d4e0c77fbd3"
      },
      "cell_type": "code",
      "source": [
        "x_train , x_test , y_train , y_test = train_test_split(x , y, test_size = 0.10,random_state =2)\n",
        "model=reg.fit(x_train,y_train)\n",
        "model"
      ],
      "execution_count": 20,
      "outputs": [
        {
          "output_type": "execute_result",
          "data": {
            "text/plain": [
              "LogisticRegression(C=1.0, class_weight=None, dual=False, fit_intercept=True,\n",
              "          intercept_scaling=1, max_iter=100, multi_class='ovr', n_jobs=1,\n",
              "          penalty='l2', random_state=None, solver='liblinear', tol=0.0001,\n",
              "          verbose=0, warm_start=False)"
            ]
          },
          "metadata": {
            "tags": []
          },
          "execution_count": 20
        }
      ]
    },
    {
      "metadata": {
        "id": "LlKla_t3Yfoo",
        "colab_type": "text"
      },
      "cell_type": "markdown",
      "source": [
        ""
      ]
    },
    {
      "metadata": {
        "id": "VbDhe4TtNlGK",
        "colab_type": "code",
        "colab": {
          "base_uri": "https://localhost:8080/",
          "height": 34
        },
        "outputId": "e2c8cb5f-2901-4c6b-f143-dc277ff21ef7"
      },
      "cell_type": "code",
      "source": [
        "pred=reg.predict(x_test)\n",
        "reg.score(x_test,y_test)"
      ],
      "execution_count": 23,
      "outputs": [
        {
          "output_type": "execute_result",
          "data": {
            "text/plain": [
              "0.9277777777777778"
            ]
          },
          "metadata": {
            "tags": []
          },
          "execution_count": 23
        }
      ]
    },
    {
      "metadata": {
        "id": "JwpsMUBRbiTA",
        "colab_type": "code",
        "colab": {
          "base_uri": "https://localhost:8080/",
          "height": 51
        },
        "outputId": "069d412d-33c4-41c3-ef71-b9cc8bacaf0f"
      },
      "cell_type": "code",
      "source": [
        "print(pred.shape)\n",
        "print(y_test.shape)"
      ],
      "execution_count": 46,
      "outputs": [
        {
          "output_type": "stream",
          "text": [
            "(180,)\n",
            "(180,)\n"
          ],
          "name": "stdout"
        }
      ]
    },
    {
      "metadata": {
        "id": "FpzWULUjZWU6",
        "colab_type": "text"
      },
      "cell_type": "markdown",
      "source": [
        "# **Accuracy classification score**"
      ]
    },
    {
      "metadata": {
        "id": "aFTmgnU-Y5Q3",
        "colab_type": "code",
        "colab": {
          "base_uri": "https://localhost:8080/",
          "height": 34
        },
        "outputId": "573b493f-6ddf-4752-cefd-9f1afc9cf88c"
      },
      "cell_type": "code",
      "source": [
        "from sklearn import metrics\n",
        "from sklearn.metrics import accuracy_score\n",
        "accuracy_score(y_test, pred, normalize=False)\n",
        "  "
      ],
      "execution_count": 38,
      "outputs": [
        {
          "output_type": "execute_result",
          "data": {
            "text/plain": [
              "167"
            ]
          },
          "metadata": {
            "tags": []
          },
          "execution_count": 38
        }
      ]
    },
    {
      "metadata": {
        "id": "ph5iC_q0b1Zk",
        "colab_type": "text"
      },
      "cell_type": "markdown",
      "source": [
        "# ***Logarthimic  loss***"
      ]
    },
    {
      "metadata": {
        "id": "F0IAQvG9Zgnh",
        "colab_type": "code",
        "colab": {
          "base_uri": "https://localhost:8080/",
          "height": 34
        },
        "outputId": "f0b7a07d-14ff-4f4d-ce2a-877fb130c9bb"
      },
      "cell_type": "code",
      "source": [
        "from sklearn import metrics\n",
        "from sklearn.metrics import log_loss\n",
        "pred=reg.predict_proba(x_test)\n",
        "loss=log_loss(y_test, pred)\n",
        "print(\"loss=\",loss)"
      ],
      "execution_count": 65,
      "outputs": [
        {
          "output_type": "stream",
          "text": [
            "loss= 0.46124866636660433\n"
          ],
          "name": "stdout"
        }
      ]
    },
    {
      "metadata": {
        "id": "Lz9cTH_3cM5W",
        "colab_type": "text"
      },
      "cell_type": "markdown",
      "source": [
        "# **R2_score**"
      ]
    },
    {
      "metadata": {
        "id": "135lz8ENcNXU",
        "colab_type": "code",
        "colab": {
          "base_uri": "https://localhost:8080/",
          "height": 34
        },
        "outputId": "a43b25d6-7e3c-4310-9208-abe7fb9cac4d"
      },
      "cell_type": "code",
      "source": [
        "  from sklearn.metrics import r2_score\n",
        "  r2_score(y_test,pred)"
      ],
      "execution_count": 52,
      "outputs": [
        {
          "output_type": "execute_result",
          "data": {
            "text/plain": [
              "0.7814052519517388"
            ]
          },
          "metadata": {
            "tags": []
          },
          "execution_count": 52
        }
      ]
    },
    {
      "metadata": {
        "id": "JCMw1wrNXfON",
        "colab_type": "text"
      },
      "cell_type": "markdown",
      "source": [
        "# **Error**"
      ]
    },
    {
      "metadata": {
        "id": "BI5LNv_NNlqy",
        "colab_type": "code",
        "colab": {
          "base_uri": "https://localhost:8080/",
          "height": 34
        },
        "outputId": "8dbf6346-9718-4a2d-e829-2b8c623b458d"
      },
      "cell_type": "code",
      "source": [
        "print(\"Error model\")\n",
        "from sklearn import metrics"
      ],
      "execution_count": 35,
      "outputs": [
        {
          "output_type": "stream",
          "text": [
            "Error model\n"
          ],
          "name": "stdout"
        }
      ]
    },
    {
      "metadata": {
        "id": "u-4bEeisX2IZ",
        "colab_type": "text"
      },
      "cell_type": "markdown",
      "source": [
        "# Mean_absolute error"
      ]
    },
    {
      "metadata": {
        "id": "GxMEC5UkXoo0",
        "colab_type": "code",
        "colab": {}
      },
      "cell_type": "code",
      "source": [
        "\n",
        "print(\"\\nmean Absolute error=\",metrics.mean_absolute_error(y_test,pred))"
      ],
      "execution_count": 0,
      "outputs": []
    },
    {
      "metadata": {
        "id": "dLoIjpifX-PC",
        "colab_type": "text"
      },
      "cell_type": "markdown",
      "source": [
        "# Mean_squared error"
      ]
    },
    {
      "metadata": {
        "id": "ggpXxiNMXpRb",
        "colab_type": "code",
        "colab": {}
      },
      "cell_type": "code",
      "source": [
        "\n",
        "print(\"\\nmean squared error=\",metrics.mean_squared_error(y_test,pred))"
      ],
      "execution_count": 0,
      "outputs": []
    },
    {
      "metadata": {
        "id": "oMgy4GpXYENK",
        "colab_type": "text"
      },
      "cell_type": "markdown",
      "source": [
        "# Root Mean squared error"
      ]
    },
    {
      "metadata": {
        "id": "Gd0SqZblXogC",
        "colab_type": "code",
        "colab": {}
      },
      "cell_type": "code",
      "source": [
        "\n",
        "print(\"\\n root mean squared error=\",np.sqrt(metrics.mean_squared_error(y_test,pred)))"
      ],
      "execution_count": 0,
      "outputs": []
    },
    {
      "metadata": {
        "id": "hP1vtvXsXWHr",
        "colab_type": "text"
      },
      "cell_type": "markdown",
      "source": [
        "# ***Confusion matrix***"
      ]
    },
    {
      "metadata": {
        "id": "gZCg3CWiQeG7",
        "colab_type": "code",
        "colab": {
          "base_uri": "https://localhost:8080/",
          "height": 187
        },
        "outputId": "48769e14-1438-4963-a7ba-74d485e0b183"
      },
      "cell_type": "code",
      "source": [
        "from sklearn.metrics import confusion_matrix\n",
        "matrix = confusion_matrix(y_test, pred)\n",
        "print(matrix)"
      ],
      "execution_count": 32,
      "outputs": [
        {
          "output_type": "stream",
          "text": [
            "[[14  0  0  0  0  0  0  0  0  0]\n",
            " [ 0 20  0  0  0  0  0  0  1  1]\n",
            " [ 0  0 14  0  0  0  0  0  0  0]\n",
            " [ 0  0  0 21  0  0  0  1  0  0]\n",
            " [ 0  2  0  0 17  0  0  0  1  1]\n",
            " [ 0  0  0  0  0 16  0  0  0  0]\n",
            " [ 0  0  0  0  0  0 17  0  1  0]\n",
            " [ 0  0  0  0  0  0  0 17  1  0]\n",
            " [ 0  2  0  0  0  0  0  0 17  0]\n",
            " [ 0  0  0  0  0  1  0  0  1 14]]\n"
          ],
          "name": "stdout"
        }
      ]
    },
    {
      "metadata": {
        "id": "4pLzOD43W9-w",
        "colab_type": "text"
      },
      "cell_type": "markdown",
      "source": [
        "# ***Classification Report***"
      ]
    },
    {
      "metadata": {
        "id": "NM1sW1pbNMQ6",
        "colab_type": "code",
        "colab": {
          "base_uri": "https://localhost:8080/",
          "height": 272
        },
        "outputId": "0864b69c-cf40-430d-d6ac-832f4acc2088"
      },
      "cell_type": "code",
      "source": [
        "from sklearn.metrics import classification_report\n",
        "report = classification_report(y_test, pred)\n",
        "print(report)"
      ],
      "execution_count": 31,
      "outputs": [
        {
          "output_type": "stream",
          "text": [
            "             precision    recall  f1-score   support\n",
            "\n",
            "          0       1.00      1.00      1.00        14\n",
            "          1       0.83      0.91      0.87        22\n",
            "          2       1.00      1.00      1.00        14\n",
            "          3       1.00      0.95      0.98        22\n",
            "          4       1.00      0.81      0.89        21\n",
            "          5       0.94      1.00      0.97        16\n",
            "          6       1.00      0.94      0.97        18\n",
            "          7       0.94      0.94      0.94        18\n",
            "          8       0.77      0.89      0.83        19\n",
            "          9       0.88      0.88      0.88        16\n",
            "\n",
            "avg / total       0.93      0.93      0.93       180\n",
            "\n"
          ],
          "name": "stdout"
        }
      ]
    }
  ]
}